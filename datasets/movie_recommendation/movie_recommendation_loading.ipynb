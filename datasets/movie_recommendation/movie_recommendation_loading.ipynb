{
 "cells": [
  {
   "cell_type": "code",
   "execution_count": 1,
   "id": "7f3ab7b0-0f43-416c-a790-31f1e566a928",
   "metadata": {},
   "outputs": [
    {
     "name": "stdout",
     "output_type": "stream",
     "text": [
      "Connection Pool Created\n"
     ]
    },
    {
     "data": {
      "text/html": [
       "<div>\n",
       "<style scoped>\n",
       "    .dataframe tbody tr th:only-of-type {\n",
       "        vertical-align: middle;\n",
       "    }\n",
       "\n",
       "    .dataframe tbody tr th {\n",
       "        vertical-align: top;\n",
       "    }\n",
       "\n",
       "    .dataframe thead th {\n",
       "        text-align: right;\n",
       "    }\n",
       "</style>\n",
       "<table border=\"1\" class=\"dataframe\">\n",
       "  <thead>\n",
       "    <tr style=\"text-align: right;\">\n",
       "      <th></th>\n",
       "      <th>Name</th>\n",
       "    </tr>\n",
       "  </thead>\n",
       "  <tbody>\n",
       "    <tr>\n",
       "      <th>0</th>\n",
       "      <td>basketballplayer</td>\n",
       "    </tr>\n",
       "    <tr>\n",
       "      <th>1</th>\n",
       "      <td>demo_basketballplayer</td>\n",
       "    </tr>\n",
       "    <tr>\n",
       "      <th>2</th>\n",
       "      <td>demo_supplychain</td>\n",
       "    </tr>\n",
       "    <tr>\n",
       "      <th>3</th>\n",
       "      <td>freebase_15k</td>\n",
       "    </tr>\n",
       "    <tr>\n",
       "      <th>4</th>\n",
       "      <td>music_gateway</td>\n",
       "    </tr>\n",
       "    <tr>\n",
       "      <th>5</th>\n",
       "      <td>nba</td>\n",
       "    </tr>\n",
       "    <tr>\n",
       "      <th>6</th>\n",
       "      <td>news</td>\n",
       "    </tr>\n",
       "    <tr>\n",
       "      <th>7</th>\n",
       "      <td>supply_chain</td>\n",
       "    </tr>\n",
       "    <tr>\n",
       "      <th>8</th>\n",
       "      <td>supplychain</td>\n",
       "    </tr>\n",
       "  </tbody>\n",
       "</table>\n",
       "</div>"
      ],
      "text/plain": [
       "                    Name\n",
       "0       basketballplayer\n",
       "1  demo_basketballplayer\n",
       "2       demo_supplychain\n",
       "3           freebase_15k\n",
       "4          music_gateway\n",
       "5                    nba\n",
       "6                   news\n",
       "7           supply_chain\n",
       "8            supplychain"
      ]
     },
     "execution_count": 1,
     "metadata": {},
     "output_type": "execute_result"
    }
   ],
   "source": [
    "%load_ext ngql\n",
    "%ngql --address 127.0.0.1 --port 9669 --user root --password nebula"
   ]
  },
  {
   "cell_type": "code",
   "execution_count": 2,
   "id": "11bed7f5-29e8-44ea-b88b-4efb5c67b390",
   "metadata": {},
   "outputs": [
    {
     "data": {
      "text/html": [
       "<div>\n",
       "<style scoped>\n",
       "    .dataframe tbody tr th:only-of-type {\n",
       "        vertical-align: middle;\n",
       "    }\n",
       "\n",
       "    .dataframe tbody tr th {\n",
       "        vertical-align: top;\n",
       "    }\n",
       "\n",
       "    .dataframe thead th {\n",
       "        text-align: right;\n",
       "    }\n",
       "</style>\n",
       "<table border=\"1\" class=\"dataframe\">\n",
       "  <thead>\n",
       "    <tr style=\"text-align: right;\">\n",
       "      <th></th>\n",
       "    </tr>\n",
       "  </thead>\n",
       "  <tbody>\n",
       "  </tbody>\n",
       "</table>\n",
       "</div>"
      ],
      "text/plain": [
       "Empty DataFrame\n",
       "Columns: []\n",
       "Index: []"
      ]
     },
     "execution_count": 2,
     "metadata": {},
     "output_type": "execute_result"
    }
   ],
   "source": [
    "%ngql CREATE SPACE movie_recommendation(partition_num=1, replica_factor=1, vid_type=fixed_string(128));\n",
    "# wait for a while"
   ]
  },
  {
   "cell_type": "code",
   "execution_count": 5,
   "id": "c9dd5dec-ae50-410e-9b7f-457fd2a48ec2",
   "metadata": {},
   "outputs": [
    {
     "data": {
      "text/html": [
       "<div>\n",
       "<style scoped>\n",
       "    .dataframe tbody tr th:only-of-type {\n",
       "        vertical-align: middle;\n",
       "    }\n",
       "\n",
       "    .dataframe tbody tr th {\n",
       "        vertical-align: top;\n",
       "    }\n",
       "\n",
       "    .dataframe thead th {\n",
       "        text-align: right;\n",
       "    }\n",
       "</style>\n",
       "<table border=\"1\" class=\"dataframe\">\n",
       "  <thead>\n",
       "    <tr style=\"text-align: right;\">\n",
       "      <th></th>\n",
       "    </tr>\n",
       "  </thead>\n",
       "  <tbody>\n",
       "  </tbody>\n",
       "</table>\n",
       "</div>"
      ],
      "text/plain": [
       "Empty DataFrame\n",
       "Columns: []\n",
       "Index: []"
      ]
     },
     "execution_count": 5,
     "metadata": {},
     "output_type": "execute_result"
    }
   ],
   "source": [
    "%ngql USE movie_recommendation;"
   ]
  },
  {
   "cell_type": "code",
   "execution_count": 6,
   "id": "33a7d0fd-f169-4ce1-8d20-5d48d434bc76",
   "metadata": {},
   "outputs": [
    {
     "data": {
      "text/html": [
       "<div>\n",
       "<style scoped>\n",
       "    .dataframe tbody tr th:only-of-type {\n",
       "        vertical-align: middle;\n",
       "    }\n",
       "\n",
       "    .dataframe tbody tr th {\n",
       "        vertical-align: top;\n",
       "    }\n",
       "\n",
       "    .dataframe thead th {\n",
       "        text-align: right;\n",
       "    }\n",
       "</style>\n",
       "<table border=\"1\" class=\"dataframe\">\n",
       "  <thead>\n",
       "    <tr style=\"text-align: right;\">\n",
       "      <th></th>\n",
       "    </tr>\n",
       "  </thead>\n",
       "  <tbody>\n",
       "  </tbody>\n",
       "</table>\n",
       "</div>"
      ],
      "text/plain": [
       "Empty DataFrame\n",
       "Columns: []\n",
       "Index: []"
      ]
     },
     "execution_count": 6,
     "metadata": {},
     "output_type": "execute_result"
    }
   ],
   "source": [
    "%%ngql\n",
    "\n",
    "CREATE TAG person(name string, birthdate string);\n",
    "CREATE TAG movie(name string);\n",
    "CREATE TAG genre(name string);\n",
    "CREATE TAG `user`(user_id string);\n",
    "\n",
    "CREATE EDGE acted_by();\n",
    "CREATE EDGE directed_by();\n",
    "CREATE EDGE with_genre();\n",
    "CREATE EDGE watched(rate float);"
   ]
  },
  {
   "cell_type": "code",
   "execution_count": null,
   "id": "c5bc21b7-408c-4d4a-a0da-27c72d37d42a",
   "metadata": {
    "scrolled": true
   },
   "outputs": [],
   "source": [
    "%ng_load --header --source https://github.com/wey-gu/awesome-graph-dataset/raw/main/datasets/movie_recommendation/small/people.csv --tag person --vid 0 --props 1:name,2:birthdate --space movie_recommendation"
   ]
  },
  {
   "cell_type": "code",
   "execution_count": null,
   "id": "155fa2b3-6293-4e3a-92ac-4d131ab5b572",
   "metadata": {
    "scrolled": true
   },
   "outputs": [],
   "source": [
    "%ng_load --header --source https://github.com/wey-gu/awesome-graph-dataset/raw/main/datasets/movie_recommendation/small/movies.csv --tag movie --vid 0 --props 1:name --space movie_recommendation"
   ]
  },
  {
   "cell_type": "code",
   "execution_count": null,
   "id": "f2872ff5-7071-4b5e-bad8-2d560323eabb",
   "metadata": {
    "scrolled": true
   },
   "outputs": [],
   "source": [
    "%ng_load --header --source https://github.com/wey-gu/awesome-graph-dataset/raw/main/datasets/movie_recommendation/small/genres.csv --tag genre --vid 0 --props 1:name --space movie_recommendation"
   ]
  },
  {
   "cell_type": "code",
   "execution_count": null,
   "id": "c583d633-925a-47b6-b232-d738cecce061",
   "metadata": {
    "scrolled": true
   },
   "outputs": [],
   "source": [
    "%ng_load --source https://github.com/wey-gu/awesome-graph-dataset/raw/main/datasets/movie_recommendation/small/user_watched_movies.csv --tag user --vid 0 --props 0:user_id --space movie_recommendation"
   ]
  },
  {
   "cell_type": "code",
   "execution_count": null,
   "id": "bf66d653-e8e1-4642-adf7-6b68d5db6139",
   "metadata": {
    "scrolled": true
   },
   "outputs": [],
   "source": [
    "%ng_load --source https://github.com/wey-gu/awesome-graph-dataset/raw/main/datasets/movie_recommendation/small/user_watched_movies.csv --edge watched --src 0 --dst 3 --props 1:rate --space movie_recommendation"
   ]
  },
  {
   "cell_type": "code",
   "execution_count": null,
   "id": "2074586b-858b-4808-83f5-a33a27ddbc82",
   "metadata": {
    "scrolled": true
   },
   "outputs": [],
   "source": [
    "%ng_load --header --source https://github.com/wey-gu/awesome-graph-dataset/raw/main/datasets/movie_recommendation/small/with_genre.csv --edge with_genre --src 0 --dst 1 --space movie_recommendation"
   ]
  },
  {
   "cell_type": "code",
   "execution_count": null,
   "id": "4212eba6-3f12-4080-8023-0a66dd0f6223",
   "metadata": {
    "scrolled": true
   },
   "outputs": [],
   "source": [
    "%ng_load --header --source https://github.com/wey-gu/awesome-graph-dataset/raw/main/datasets/movie_recommendation/small/directed_by.csv --edge directed_by --src 0 --dst 1 --space movie_recommendation"
   ]
  },
  {
   "cell_type": "code",
   "execution_count": null,
   "id": "5cbc4fe0-9a0f-4a91-8c07-d5b9a78caca2",
   "metadata": {
    "scrolled": true
   },
   "outputs": [],
   "source": [
    "%ng_load --header --source https://github.com/wey-gu/awesome-graph-dataset/raw/main/datasets/movie_recommendation/small/acted_by.csv --edge acted_by --src 0 --dst 1 --space movie_recommendation"
   ]
  },
  {
   "cell_type": "code",
   "execution_count": 27,
   "id": "eed1fff6-e821-47d4-8bb5-74309db7c999",
   "metadata": {},
   "outputs": [
    {
     "data": {
      "text/html": [
       "<div>\n",
       "<style scoped>\n",
       "    .dataframe tbody tr th:only-of-type {\n",
       "        vertical-align: middle;\n",
       "    }\n",
       "\n",
       "    .dataframe tbody tr th {\n",
       "        vertical-align: top;\n",
       "    }\n",
       "\n",
       "    .dataframe thead th {\n",
       "        text-align: right;\n",
       "    }\n",
       "</style>\n",
       "<table border=\"1\" class=\"dataframe\">\n",
       "  <thead>\n",
       "    <tr style=\"text-align: right;\">\n",
       "      <th></th>\n",
       "      <th>New Job Id</th>\n",
       "    </tr>\n",
       "  </thead>\n",
       "  <tbody>\n",
       "    <tr>\n",
       "      <th>0</th>\n",
       "      <td>27</td>\n",
       "    </tr>\n",
       "  </tbody>\n",
       "</table>\n",
       "</div>"
      ],
      "text/plain": [
       "   New Job Id\n",
       "0          27"
      ]
     },
     "execution_count": 27,
     "metadata": {},
     "output_type": "execute_result"
    }
   ],
   "source": [
    "%ngql SUBMIT JOB STATS;"
   ]
  },
  {
   "cell_type": "code",
   "execution_count": 28,
   "id": "ff6ac88c-c90b-4cc2-a4c5-a5c712d4803e",
   "metadata": {},
   "outputs": [
    {
     "data": {
      "text/html": [
       "<div>\n",
       "<style scoped>\n",
       "    .dataframe tbody tr th:only-of-type {\n",
       "        vertical-align: middle;\n",
       "    }\n",
       "\n",
       "    .dataframe tbody tr th {\n",
       "        vertical-align: top;\n",
       "    }\n",
       "\n",
       "    .dataframe thead th {\n",
       "        text-align: right;\n",
       "    }\n",
       "</style>\n",
       "<table border=\"1\" class=\"dataframe\">\n",
       "  <thead>\n",
       "    <tr style=\"text-align: right;\">\n",
       "      <th></th>\n",
       "      <th>Type</th>\n",
       "      <th>Name</th>\n",
       "      <th>Count</th>\n",
       "    </tr>\n",
       "  </thead>\n",
       "  <tbody>\n",
       "    <tr>\n",
       "      <th>0</th>\n",
       "      <td>Tag</td>\n",
       "      <td>genre</td>\n",
       "      <td>14397</td>\n",
       "    </tr>\n",
       "    <tr>\n",
       "      <th>1</th>\n",
       "      <td>Tag</td>\n",
       "      <td>movie</td>\n",
       "      <td>20701</td>\n",
       "    </tr>\n",
       "    <tr>\n",
       "      <th>2</th>\n",
       "      <td>Tag</td>\n",
       "      <td>person</td>\n",
       "      <td>263907</td>\n",
       "    </tr>\n",
       "    <tr>\n",
       "      <th>3</th>\n",
       "      <td>Tag</td>\n",
       "      <td>user</td>\n",
       "      <td>610</td>\n",
       "    </tr>\n",
       "    <tr>\n",
       "      <th>4</th>\n",
       "      <td>Edge</td>\n",
       "      <td>acted_by</td>\n",
       "      <td>673763</td>\n",
       "    </tr>\n",
       "    <tr>\n",
       "      <th>5</th>\n",
       "      <td>Edge</td>\n",
       "      <td>directed_by</td>\n",
       "      <td>101949</td>\n",
       "    </tr>\n",
       "    <tr>\n",
       "      <th>6</th>\n",
       "      <td>Edge</td>\n",
       "      <td>watched</td>\n",
       "      <td>31781</td>\n",
       "    </tr>\n",
       "    <tr>\n",
       "      <th>7</th>\n",
       "      <td>Edge</td>\n",
       "      <td>with_genre</td>\n",
       "      <td>194009</td>\n",
       "    </tr>\n",
       "    <tr>\n",
       "      <th>8</th>\n",
       "      <td>Space</td>\n",
       "      <td>vertices</td>\n",
       "      <td>299615</td>\n",
       "    </tr>\n",
       "    <tr>\n",
       "      <th>9</th>\n",
       "      <td>Space</td>\n",
       "      <td>edges</td>\n",
       "      <td>1001502</td>\n",
       "    </tr>\n",
       "  </tbody>\n",
       "</table>\n",
       "</div>"
      ],
      "text/plain": [
       "    Type         Name    Count\n",
       "0    Tag        genre    14397\n",
       "1    Tag        movie    20701\n",
       "2    Tag       person   263907\n",
       "3    Tag         user      610\n",
       "4   Edge     acted_by   673763\n",
       "5   Edge  directed_by   101949\n",
       "6   Edge      watched    31781\n",
       "7   Edge   with_genre   194009\n",
       "8  Space     vertices   299615\n",
       "9  Space        edges  1001502"
      ]
     },
     "execution_count": 28,
     "metadata": {},
     "output_type": "execute_result"
    }
   ],
   "source": [
    "# Wait for a while\n",
    "# There are duplicated data being ingested, thus stats is less than ingested data.\n",
    "%ngql SHOW STATS;"
   ]
  },
  {
   "cell_type": "code",
   "execution_count": 32,
   "id": "24cdbffe-e7ef-42ba-ac7f-4dcd80df5386",
   "metadata": {},
   "outputs": [
    {
     "data": {
      "text/html": [
       "<div>\n",
       "<style scoped>\n",
       "    .dataframe tbody tr th:only-of-type {\n",
       "        vertical-align: middle;\n",
       "    }\n",
       "\n",
       "    .dataframe tbody tr th {\n",
       "        vertical-align: top;\n",
       "    }\n",
       "\n",
       "    .dataframe thead th {\n",
       "        text-align: right;\n",
       "    }\n",
       "</style>\n",
       "<table border=\"1\" class=\"dataframe\">\n",
       "  <thead>\n",
       "    <tr style=\"text-align: right;\">\n",
       "      <th></th>\n",
       "      <th>p</th>\n",
       "    </tr>\n",
       "  </thead>\n",
       "  <tbody>\n",
       "    <tr>\n",
       "      <th>0</th>\n",
       "      <td>(\"u_10\" :user{user_id: \"u_10\"})-[:watched@0{ra...</td>\n",
       "    </tr>\n",
       "    <tr>\n",
       "      <th>1</th>\n",
       "      <td>(\"u_10\" :user{user_id: \"u_10\"})-[:watched@0{ra...</td>\n",
       "    </tr>\n",
       "    <tr>\n",
       "      <th>2</th>\n",
       "      <td>(\"u_10\" :user{user_id: \"u_10\"})-[:watched@0{ra...</td>\n",
       "    </tr>\n",
       "    <tr>\n",
       "      <th>3</th>\n",
       "      <td>(\"u_10\" :user{user_id: \"u_10\"})-[:watched@0{ra...</td>\n",
       "    </tr>\n",
       "    <tr>\n",
       "      <th>4</th>\n",
       "      <td>(\"u_10\" :user{user_id: \"u_10\"})-[:watched@0{ra...</td>\n",
       "    </tr>\n",
       "    <tr>\n",
       "      <th>5</th>\n",
       "      <td>(\"u_10\" :user{user_id: \"u_10\"})-[:watched@0{ra...</td>\n",
       "    </tr>\n",
       "    <tr>\n",
       "      <th>6</th>\n",
       "      <td>(\"u_10\" :user{user_id: \"u_10\"})-[:watched@0{ra...</td>\n",
       "    </tr>\n",
       "    <tr>\n",
       "      <th>7</th>\n",
       "      <td>(\"u_10\" :user{user_id: \"u_10\"})-[:watched@0{ra...</td>\n",
       "    </tr>\n",
       "    <tr>\n",
       "      <th>8</th>\n",
       "      <td>(\"u_10\" :user{user_id: \"u_10\"})-[:watched@0{ra...</td>\n",
       "    </tr>\n",
       "    <tr>\n",
       "      <th>9</th>\n",
       "      <td>(\"u_10\" :user{user_id: \"u_10\"})-[:watched@0{ra...</td>\n",
       "    </tr>\n",
       "  </tbody>\n",
       "</table>\n",
       "</div>"
      ],
      "text/plain": [
       "                                                   p\n",
       "0  (\"u_10\" :user{user_id: \"u_10\"})-[:watched@0{ra...\n",
       "1  (\"u_10\" :user{user_id: \"u_10\"})-[:watched@0{ra...\n",
       "2  (\"u_10\" :user{user_id: \"u_10\"})-[:watched@0{ra...\n",
       "3  (\"u_10\" :user{user_id: \"u_10\"})-[:watched@0{ra...\n",
       "4  (\"u_10\" :user{user_id: \"u_10\"})-[:watched@0{ra...\n",
       "5  (\"u_10\" :user{user_id: \"u_10\"})-[:watched@0{ra...\n",
       "6  (\"u_10\" :user{user_id: \"u_10\"})-[:watched@0{ra...\n",
       "7  (\"u_10\" :user{user_id: \"u_10\"})-[:watched@0{ra...\n",
       "8  (\"u_10\" :user{user_id: \"u_10\"})-[:watched@0{ra...\n",
       "9  (\"u_10\" :user{user_id: \"u_10\"})-[:watched@0{ra..."
      ]
     },
     "execution_count": 32,
     "metadata": {},
     "output_type": "execute_result"
    }
   ],
   "source": [
    "%%ngql \n",
    "\n",
    "MATCH p = (u)-->()--()--() WHERE id(u) == \"u_10\" RETURN p LIMIT 10"
   ]
  },
  {
   "cell_type": "code",
   "execution_count": 33,
   "id": "4b17bd4c-7fb4-480e-a324-981f6020faac",
   "metadata": {},
   "outputs": [
    {
     "data": {
      "text/html": [
       "\n",
       "        <iframe\n",
       "            width=\"100%\"\n",
       "            height=\"500px\"\n",
       "            src=\"nebulagraph.html\"\n",
       "            frameborder=\"0\"\n",
       "            allowfullscreen\n",
       "            \n",
       "        ></iframe>\n",
       "        "
      ],
      "text/plain": [
       "<IPython.lib.display.IFrame at 0x7fde855567b0>"
      ]
     },
     "metadata": {},
     "output_type": "display_data"
    },
    {
     "data": {
      "text/plain": [
       "<class 'pyvis.network.Network'> |N|=13 |E|=30"
      ]
     },
     "execution_count": 33,
     "metadata": {},
     "output_type": "execute_result"
    }
   ],
   "source": [
    "%ng_draw"
   ]
  },
  {
   "cell_type": "code",
   "execution_count": 34,
   "id": "82fcb8aa-2039-442b-b315-1c4343f5e543",
   "metadata": {},
   "outputs": [
    {
     "data": {
      "text/html": [
       "\n",
       "        <iframe\n",
       "            width=\"100%\"\n",
       "            height=\"500px\"\n",
       "            src=\"nebulagraph_schema.html\"\n",
       "            frameborder=\"0\"\n",
       "            allowfullscreen\n",
       "            \n",
       "        ></iframe>\n",
       "        "
      ],
      "text/plain": [
       "<IPython.lib.display.IFrame at 0x7fde8722ecf0>"
      ]
     },
     "metadata": {},
     "output_type": "display_data"
    },
    {
     "data": {
      "text/plain": [
       "<class 'pyvis.network.Network'> |N|=4 |E|=4"
      ]
     },
     "execution_count": 34,
     "metadata": {},
     "output_type": "execute_result"
    }
   ],
   "source": [
    "%ng_draw_schema"
   ]
  },
  {
   "cell_type": "code",
   "execution_count": null,
   "id": "1d993b9e-df82-40db-b158-0360aee1cac7",
   "metadata": {},
   "outputs": [],
   "source": []
  }
 ],
 "metadata": {
  "kernelspec": {
   "display_name": "Python 3 (ipykernel)",
   "language": "python",
   "name": "python3"
  },
  "language_info": {
   "codemirror_mode": {
    "name": "ipython",
    "version": 3
   },
   "file_extension": ".py",
   "mimetype": "text/x-python",
   "name": "python",
   "nbconvert_exporter": "python",
   "pygments_lexer": "ipython3",
   "version": "3.12.2"
  }
 },
 "nbformat": 4,
 "nbformat_minor": 5
}
