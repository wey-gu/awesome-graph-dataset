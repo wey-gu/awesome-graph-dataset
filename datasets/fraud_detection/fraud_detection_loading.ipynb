{
 "cells": [
  {
   "cell_type": "code",
   "execution_count": 1,
   "id": "b59b83ce-0aad-4b51-b387-4af315e92a6b",
   "metadata": {},
   "outputs": [
    {
     "name": "stdout",
     "output_type": "stream",
     "text": [
      "Connection Pool Created\n"
     ]
    },
    {
     "data": {
      "text/html": [
       "<div>\n",
       "<style scoped>\n",
       "    .dataframe tbody tr th:only-of-type {\n",
       "        vertical-align: middle;\n",
       "    }\n",
       "\n",
       "    .dataframe tbody tr th {\n",
       "        vertical-align: top;\n",
       "    }\n",
       "\n",
       "    .dataframe thead th {\n",
       "        text-align: right;\n",
       "    }\n",
       "</style>\n",
       "<table border=\"1\" class=\"dataframe\">\n",
       "  <thead>\n",
       "    <tr style=\"text-align: right;\">\n",
       "      <th></th>\n",
       "      <th>Name</th>\n",
       "    </tr>\n",
       "  </thead>\n",
       "  <tbody>\n",
       "    <tr>\n",
       "      <th>0</th>\n",
       "      <td>basketballplayer</td>\n",
       "    </tr>\n",
       "    <tr>\n",
       "      <th>1</th>\n",
       "      <td>demo_basketballplayer</td>\n",
       "    </tr>\n",
       "    <tr>\n",
       "      <th>2</th>\n",
       "      <td>demo_supplychain</td>\n",
       "    </tr>\n",
       "    <tr>\n",
       "      <th>3</th>\n",
       "      <td>freebase_15k</td>\n",
       "    </tr>\n",
       "    <tr>\n",
       "      <th>4</th>\n",
       "      <td>movie_recommendation</td>\n",
       "    </tr>\n",
       "    <tr>\n",
       "      <th>5</th>\n",
       "      <td>music_gateway</td>\n",
       "    </tr>\n",
       "    <tr>\n",
       "      <th>6</th>\n",
       "      <td>nba</td>\n",
       "    </tr>\n",
       "    <tr>\n",
       "      <th>7</th>\n",
       "      <td>news</td>\n",
       "    </tr>\n",
       "    <tr>\n",
       "      <th>8</th>\n",
       "      <td>supply_chain</td>\n",
       "    </tr>\n",
       "    <tr>\n",
       "      <th>9</th>\n",
       "      <td>supplychain</td>\n",
       "    </tr>\n",
       "  </tbody>\n",
       "</table>\n",
       "</div>"
      ],
      "text/plain": [
       "                    Name\n",
       "0       basketballplayer\n",
       "1  demo_basketballplayer\n",
       "2       demo_supplychain\n",
       "3           freebase_15k\n",
       "4   movie_recommendation\n",
       "5          music_gateway\n",
       "6                    nba\n",
       "7                   news\n",
       "8           supply_chain\n",
       "9            supplychain"
      ]
     },
     "execution_count": 1,
     "metadata": {},
     "output_type": "execute_result"
    }
   ],
   "source": [
    "%load_ext ngql\n",
    "%ngql --address 127.0.0.1 --port 9669 --user root --password nebula"
   ]
  },
  {
   "cell_type": "code",
   "execution_count": 2,
   "id": "9028fb80-c354-4d0e-a572-0736baceca9a",
   "metadata": {},
   "outputs": [
    {
     "data": {
      "text/html": [
       "<div>\n",
       "<style scoped>\n",
       "    .dataframe tbody tr th:only-of-type {\n",
       "        vertical-align: middle;\n",
       "    }\n",
       "\n",
       "    .dataframe tbody tr th {\n",
       "        vertical-align: top;\n",
       "    }\n",
       "\n",
       "    .dataframe thead th {\n",
       "        text-align: right;\n",
       "    }\n",
       "</style>\n",
       "<table border=\"1\" class=\"dataframe\">\n",
       "  <thead>\n",
       "    <tr style=\"text-align: right;\">\n",
       "      <th></th>\n",
       "    </tr>\n",
       "  </thead>\n",
       "  <tbody>\n",
       "  </tbody>\n",
       "</table>\n",
       "</div>"
      ],
      "text/plain": [
       "Empty DataFrame\n",
       "Columns: []\n",
       "Index: []"
      ]
     },
     "execution_count": 2,
     "metadata": {},
     "output_type": "execute_result"
    }
   ],
   "source": [
    "%ngql CREATE SPACE fraud_detection(partition_num=1, replica_factor=1, vid_type=fixed_string(32));"
   ]
  },
  {
   "cell_type": "code",
   "execution_count": 3,
   "id": "2ffb4f6d-2f86-4428-810c-a48f7a3261de",
   "metadata": {},
   "outputs": [
    {
     "data": {
      "text/html": [
       "<div>\n",
       "<style scoped>\n",
       "    .dataframe tbody tr th:only-of-type {\n",
       "        vertical-align: middle;\n",
       "    }\n",
       "\n",
       "    .dataframe tbody tr th {\n",
       "        vertical-align: top;\n",
       "    }\n",
       "\n",
       "    .dataframe thead th {\n",
       "        text-align: right;\n",
       "    }\n",
       "</style>\n",
       "<table border=\"1\" class=\"dataframe\">\n",
       "  <thead>\n",
       "    <tr style=\"text-align: right;\">\n",
       "      <th></th>\n",
       "    </tr>\n",
       "  </thead>\n",
       "  <tbody>\n",
       "  </tbody>\n",
       "</table>\n",
       "</div>"
      ],
      "text/plain": [
       "Empty DataFrame\n",
       "Columns: []\n",
       "Index: []"
      ]
     },
     "execution_count": 3,
     "metadata": {},
     "output_type": "execute_result"
    }
   ],
   "source": [
    "%ngql USE fraud_detection;"
   ]
  },
  {
   "cell_type": "code",
   "execution_count": 4,
   "id": "d56fe33d-fe5b-4a86-b8d8-08938e53a137",
   "metadata": {},
   "outputs": [
    {
     "data": {
      "text/html": [
       "<div>\n",
       "<style scoped>\n",
       "    .dataframe tbody tr th:only-of-type {\n",
       "        vertical-align: middle;\n",
       "    }\n",
       "\n",
       "    .dataframe tbody tr th {\n",
       "        vertical-align: top;\n",
       "    }\n",
       "\n",
       "    .dataframe thead th {\n",
       "        text-align: right;\n",
       "    }\n",
       "</style>\n",
       "<table border=\"1\" class=\"dataframe\">\n",
       "  <thead>\n",
       "    <tr style=\"text-align: right;\">\n",
       "      <th></th>\n",
       "    </tr>\n",
       "  </thead>\n",
       "  <tbody>\n",
       "  </tbody>\n",
       "</table>\n",
       "</div>"
      ],
      "text/plain": [
       "Empty DataFrame\n",
       "Columns: []\n",
       "Index: []"
      ]
     },
     "execution_count": 4,
     "metadata": {},
     "output_type": "execute_result"
    }
   ],
   "source": [
    "%%ngql\n",
    "CREATE TAG corp (corp_name string, phone_num string, is_risky string, risk_comment string);\n",
    "CREATE TAG application (apply_agent_id string, apply_date date, application_uuid string, approval_status string, application_type string, rejection_reason string);\n",
    "CREATE TAG phone_num (phone_num string);\n",
    "CREATE TAG device (device_id string);\n",
    "CREATE TAG person (name string);\n",
    "CREATE TAG applicant (name string, gender string, birth date, addr string, degree string, occupation string, year_salary string, is_risky string, risk_comment string);\n",
    "\n",
    "CREATE EDGE applied_for_loan (start_time date); \n",
    "CREATE EDGE with_phone_num (start_time date);\n",
    "CREATE EDGE is_related_to (start_time date, level int);\n",
    "CREATE EDGE worked_for (start_time date);\n",
    "CREATE EDGE used_device (start_time date);"
   ]
  },
  {
   "cell_type": "code",
   "execution_count": 5,
   "id": "84c06609-1e0a-48e6-9861-fd34b782b299",
   "metadata": {},
   "outputs": [
    {
     "ename": "ParserError",
     "evalue": "Error tokenizing data. C error: Expected 1 fields in line 39, saw 16\n",
     "output_type": "error",
     "traceback": [
      "\u001b[0;31m---------------------------------------------------------------------------\u001b[0m",
      "\u001b[0;31mParserError\u001b[0m                               Traceback (most recent call last)",
      "Cell \u001b[0;32mIn[5], line 1\u001b[0m\n\u001b[0;32m----> 1\u001b[0m \u001b[43mget_ipython\u001b[49m\u001b[43m(\u001b[49m\u001b[43m)\u001b[49m\u001b[38;5;241;43m.\u001b[39;49m\u001b[43mrun_line_magic\u001b[49m\u001b[43m(\u001b[49m\u001b[38;5;124;43m'\u001b[39;49m\u001b[38;5;124;43mng_load\u001b[39;49m\u001b[38;5;124;43m'\u001b[39;49m\u001b[43m,\u001b[49m\u001b[43m \u001b[49m\u001b[38;5;124;43m'\u001b[39;49m\u001b[38;5;124;43m--header --source https://github.com/wey-gu/awesome-graph-dataset/raw/main/datasets/fraud_detection/small/corporation.csv --tag corp --vid 0 --props 1:corp_name,3:is_risky,4:risk_comment --space fraud_detection\u001b[39;49m\u001b[38;5;124;43m'\u001b[39;49m\u001b[43m)\u001b[49m\n",
      "File \u001b[0;32m~/.conda/envs/base_wey/lib/python3.12/site-packages/IPython/core/interactiveshell.py:2480\u001b[0m, in \u001b[0;36mInteractiveShell.run_line_magic\u001b[0;34m(self, magic_name, line, _stack_depth)\u001b[0m\n\u001b[1;32m   2478\u001b[0m     kwargs[\u001b[38;5;124m'\u001b[39m\u001b[38;5;124mlocal_ns\u001b[39m\u001b[38;5;124m'\u001b[39m] \u001b[38;5;241m=\u001b[39m \u001b[38;5;28mself\u001b[39m\u001b[38;5;241m.\u001b[39mget_local_scope(stack_depth)\n\u001b[1;32m   2479\u001b[0m \u001b[38;5;28;01mwith\u001b[39;00m \u001b[38;5;28mself\u001b[39m\u001b[38;5;241m.\u001b[39mbuiltin_trap:\n\u001b[0;32m-> 2480\u001b[0m     result \u001b[38;5;241m=\u001b[39m \u001b[43mfn\u001b[49m\u001b[43m(\u001b[49m\u001b[38;5;241;43m*\u001b[39;49m\u001b[43margs\u001b[49m\u001b[43m,\u001b[49m\u001b[43m \u001b[49m\u001b[38;5;241;43m*\u001b[39;49m\u001b[38;5;241;43m*\u001b[39;49m\u001b[43mkwargs\u001b[49m\u001b[43m)\u001b[49m\n\u001b[1;32m   2482\u001b[0m \u001b[38;5;66;03m# The code below prevents the output from being displayed\u001b[39;00m\n\u001b[1;32m   2483\u001b[0m \u001b[38;5;66;03m# when using magics with decorator @output_can_be_silenced\u001b[39;00m\n\u001b[1;32m   2484\u001b[0m \u001b[38;5;66;03m# when the last Python token in the expression is a ';'.\u001b[39;00m\n\u001b[1;32m   2485\u001b[0m \u001b[38;5;28;01mif\u001b[39;00m \u001b[38;5;28mgetattr\u001b[39m(fn, magic\u001b[38;5;241m.\u001b[39mMAGIC_OUTPUT_CAN_BE_SILENCED, \u001b[38;5;28;01mFalse\u001b[39;00m):\n",
      "File \u001b[0;32m~/.conda/envs/base_wey/lib/python3.12/site-packages/ngql/magic.py:757\u001b[0m, in \u001b[0;36mIPythonNGQL.ng_load\u001b[0;34m(self, line, cell, local_ns)\u001b[0m\n\u001b[1;32m    755\u001b[0m     response \u001b[38;5;241m=\u001b[39m requests\u001b[38;5;241m.\u001b[39mget(args\u001b[38;5;241m.\u001b[39msource)\n\u001b[1;32m    756\u001b[0m     csv_string \u001b[38;5;241m=\u001b[39m response\u001b[38;5;241m.\u001b[39mcontent\u001b[38;5;241m.\u001b[39mdecode(\u001b[38;5;124m\"\u001b[39m\u001b[38;5;124mutf-8\u001b[39m\u001b[38;5;124m\"\u001b[39m)\n\u001b[0;32m--> 757\u001b[0m     df \u001b[38;5;241m=\u001b[39m \u001b[43mpd\u001b[49m\u001b[38;5;241;43m.\u001b[39;49m\u001b[43mread_csv\u001b[49m\u001b[43m(\u001b[49m\u001b[43mStringIO\u001b[49m\u001b[43m(\u001b[49m\u001b[43mcsv_string\u001b[49m\u001b[43m)\u001b[49m\u001b[43m,\u001b[49m\u001b[43m \u001b[49m\u001b[43mheader\u001b[49m\u001b[38;5;241;43m=\u001b[39;49m\u001b[38;5;241;43m0\u001b[39;49m\u001b[43m \u001b[49m\u001b[38;5;28;43;01mif\u001b[39;49;00m\u001b[43m \u001b[49m\u001b[43mwith_header\u001b[49m\u001b[43m \u001b[49m\u001b[38;5;28;43;01melse\u001b[39;49;00m\u001b[43m \u001b[49m\u001b[38;5;28;43;01mNone\u001b[39;49;00m\u001b[43m)\u001b[49m\n\u001b[1;32m    758\u001b[0m \u001b[38;5;28;01melse\u001b[39;00m:\n\u001b[1;32m    759\u001b[0m     df \u001b[38;5;241m=\u001b[39m pd\u001b[38;5;241m.\u001b[39mread_csv(args\u001b[38;5;241m.\u001b[39msource, header\u001b[38;5;241m=\u001b[39m\u001b[38;5;241m0\u001b[39m \u001b[38;5;28;01mif\u001b[39;00m with_header \u001b[38;5;28;01melse\u001b[39;00m \u001b[38;5;28;01mNone\u001b[39;00m)\n",
      "File \u001b[0;32m~/.conda/envs/base_wey/lib/python3.12/site-packages/pandas/io/parsers/readers.py:1026\u001b[0m, in \u001b[0;36mread_csv\u001b[0;34m(filepath_or_buffer, sep, delimiter, header, names, index_col, usecols, dtype, engine, converters, true_values, false_values, skipinitialspace, skiprows, skipfooter, nrows, na_values, keep_default_na, na_filter, verbose, skip_blank_lines, parse_dates, infer_datetime_format, keep_date_col, date_parser, date_format, dayfirst, cache_dates, iterator, chunksize, compression, thousands, decimal, lineterminator, quotechar, quoting, doublequote, escapechar, comment, encoding, encoding_errors, dialect, on_bad_lines, delim_whitespace, low_memory, memory_map, float_precision, storage_options, dtype_backend)\u001b[0m\n\u001b[1;32m   1013\u001b[0m kwds_defaults \u001b[38;5;241m=\u001b[39m _refine_defaults_read(\n\u001b[1;32m   1014\u001b[0m     dialect,\n\u001b[1;32m   1015\u001b[0m     delimiter,\n\u001b[0;32m   (...)\u001b[0m\n\u001b[1;32m   1022\u001b[0m     dtype_backend\u001b[38;5;241m=\u001b[39mdtype_backend,\n\u001b[1;32m   1023\u001b[0m )\n\u001b[1;32m   1024\u001b[0m kwds\u001b[38;5;241m.\u001b[39mupdate(kwds_defaults)\n\u001b[0;32m-> 1026\u001b[0m \u001b[38;5;28;01mreturn\u001b[39;00m \u001b[43m_read\u001b[49m\u001b[43m(\u001b[49m\u001b[43mfilepath_or_buffer\u001b[49m\u001b[43m,\u001b[49m\u001b[43m \u001b[49m\u001b[43mkwds\u001b[49m\u001b[43m)\u001b[49m\n",
      "File \u001b[0;32m~/.conda/envs/base_wey/lib/python3.12/site-packages/pandas/io/parsers/readers.py:626\u001b[0m, in \u001b[0;36m_read\u001b[0;34m(filepath_or_buffer, kwds)\u001b[0m\n\u001b[1;32m    623\u001b[0m     \u001b[38;5;28;01mreturn\u001b[39;00m parser\n\u001b[1;32m    625\u001b[0m \u001b[38;5;28;01mwith\u001b[39;00m parser:\n\u001b[0;32m--> 626\u001b[0m     \u001b[38;5;28;01mreturn\u001b[39;00m \u001b[43mparser\u001b[49m\u001b[38;5;241;43m.\u001b[39;49m\u001b[43mread\u001b[49m\u001b[43m(\u001b[49m\u001b[43mnrows\u001b[49m\u001b[43m)\u001b[49m\n",
      "File \u001b[0;32m~/.conda/envs/base_wey/lib/python3.12/site-packages/pandas/io/parsers/readers.py:1923\u001b[0m, in \u001b[0;36mTextFileReader.read\u001b[0;34m(self, nrows)\u001b[0m\n\u001b[1;32m   1916\u001b[0m nrows \u001b[38;5;241m=\u001b[39m validate_integer(\u001b[38;5;124m\"\u001b[39m\u001b[38;5;124mnrows\u001b[39m\u001b[38;5;124m\"\u001b[39m, nrows)\n\u001b[1;32m   1917\u001b[0m \u001b[38;5;28;01mtry\u001b[39;00m:\n\u001b[1;32m   1918\u001b[0m     \u001b[38;5;66;03m# error: \"ParserBase\" has no attribute \"read\"\u001b[39;00m\n\u001b[1;32m   1919\u001b[0m     (\n\u001b[1;32m   1920\u001b[0m         index,\n\u001b[1;32m   1921\u001b[0m         columns,\n\u001b[1;32m   1922\u001b[0m         col_dict,\n\u001b[0;32m-> 1923\u001b[0m     ) \u001b[38;5;241m=\u001b[39m \u001b[38;5;28;43mself\u001b[39;49m\u001b[38;5;241;43m.\u001b[39;49m\u001b[43m_engine\u001b[49m\u001b[38;5;241;43m.\u001b[39;49m\u001b[43mread\u001b[49m\u001b[43m(\u001b[49m\u001b[43m  \u001b[49m\u001b[38;5;66;43;03m# type: ignore[attr-defined]\u001b[39;49;00m\n\u001b[1;32m   1924\u001b[0m \u001b[43m        \u001b[49m\u001b[43mnrows\u001b[49m\n\u001b[1;32m   1925\u001b[0m \u001b[43m    \u001b[49m\u001b[43m)\u001b[49m\n\u001b[1;32m   1926\u001b[0m \u001b[38;5;28;01mexcept\u001b[39;00m \u001b[38;5;167;01mException\u001b[39;00m:\n\u001b[1;32m   1927\u001b[0m     \u001b[38;5;28mself\u001b[39m\u001b[38;5;241m.\u001b[39mclose()\n",
      "File \u001b[0;32m~/.conda/envs/base_wey/lib/python3.12/site-packages/pandas/io/parsers/c_parser_wrapper.py:234\u001b[0m, in \u001b[0;36mCParserWrapper.read\u001b[0;34m(self, nrows)\u001b[0m\n\u001b[1;32m    232\u001b[0m \u001b[38;5;28;01mtry\u001b[39;00m:\n\u001b[1;32m    233\u001b[0m     \u001b[38;5;28;01mif\u001b[39;00m \u001b[38;5;28mself\u001b[39m\u001b[38;5;241m.\u001b[39mlow_memory:\n\u001b[0;32m--> 234\u001b[0m         chunks \u001b[38;5;241m=\u001b[39m \u001b[38;5;28;43mself\u001b[39;49m\u001b[38;5;241;43m.\u001b[39;49m\u001b[43m_reader\u001b[49m\u001b[38;5;241;43m.\u001b[39;49m\u001b[43mread_low_memory\u001b[49m\u001b[43m(\u001b[49m\u001b[43mnrows\u001b[49m\u001b[43m)\u001b[49m\n\u001b[1;32m    235\u001b[0m         \u001b[38;5;66;03m# destructive to chunks\u001b[39;00m\n\u001b[1;32m    236\u001b[0m         data \u001b[38;5;241m=\u001b[39m _concatenate_chunks(chunks)\n",
      "File \u001b[0;32mparsers.pyx:838\u001b[0m, in \u001b[0;36mpandas._libs.parsers.TextReader.read_low_memory\u001b[0;34m()\u001b[0m\n",
      "File \u001b[0;32mparsers.pyx:905\u001b[0m, in \u001b[0;36mpandas._libs.parsers.TextReader._read_rows\u001b[0;34m()\u001b[0m\n",
      "File \u001b[0;32mparsers.pyx:874\u001b[0m, in \u001b[0;36mpandas._libs.parsers.TextReader._tokenize_rows\u001b[0;34m()\u001b[0m\n",
      "File \u001b[0;32mparsers.pyx:891\u001b[0m, in \u001b[0;36mpandas._libs.parsers.TextReader._check_tokenize_status\u001b[0;34m()\u001b[0m\n",
      "File \u001b[0;32mparsers.pyx:2061\u001b[0m, in \u001b[0;36mpandas._libs.parsers.raise_parser_error\u001b[0;34m()\u001b[0m\n",
      "\u001b[0;31mParserError\u001b[0m: Error tokenizing data. C error: Expected 1 fields in line 39, saw 16\n"
     ]
    }
   ],
   "source": [
    "%ng_load --header --source https://github.com/wey-gu/awesome-graph-dataset/raw/main/datasets/fraud_detection/small/corporation.csv --tag corp --vid 0 --props 1:corp_name,3:is_risky,4:risk_comment --space fraud_detection\n"
   ]
  },
  {
   "cell_type": "code",
   "execution_count": null,
   "id": "3c230fab-c17c-44f0-bf7b-dca3f79a8dd1",
   "metadata": {},
   "outputs": [],
   "source": [
    "%ng_load --header --source https://github.com/wey-gu/awesome-graph-dataset/raw/main/datasets/fraud_detection/small/applicant_application_with_is_related_to.csv --tag application --vid 0 --props 7:apply_agent_id,8:apply_date,9:application_uuid,10:approval_status,11:application_type,12:rejection_reason --space fraud_detection\n",
    "%ng_load --header --source https://github.com/wey-gu/awesome-graph-dataset/raw/main/datasets/fraud_detection/small/phone_number.csv --tag phone_num --vid 0 --props 1:phone_num --space fraud_detection\n",
    "%ng_load --header --source https://github.com/wey-gu/awesome-graph-dataset/raw/main/datasets/fraud_detection/small/device.csv --tag device --vid 0 --props 1:device_id --space fraud_detection\n",
    "%ng_load --header --source https://github.com/wey-gu/awesome-graph-dataset/raw/main/datasets/fraud_detection/small/person.csv --tag person --vid 0 --props 1:name --space fraud_detection\n",
    "%ng_load --header --source https://github.com/wey-gu/awesome-graph-dataset/raw/main/datasets/fraud_detection/small/applicant_application_with_is_related_to.csv --tag applicant --vid 0 --props 17:name,18:gender,19:birth,1:addr,2:degree,3:occupation,4:year_salary,5:is_risky,6:risk_comment --space fraud_detection\n",
    "%ng_load --header --source https://github.com/wey-gu/awesome-graph-dataset/raw/main/datasets/fraud_detection/small/applicant_application_with_is_related_to.csv --edge applied_for_loan --src 14 --dst 0 --props 8:start_time --space fraud_detection\n",
    "%ng_load --header --source https://github.com/wey-gu/awesome-graph-dataset/raw/main/datasets/fraud_detection/small/applicant_application_with_shared_phone_num.csv --edge with_phone_num --src 28 --dst 30 --space fraud_detection\n",
    "%ng_load --header --source https://github.com/wey-gu/awesome-graph-dataset/raw/main/datasets/fraud_detection/small/applicant_application_with_shared_phone_num.csv --edge with_phone_num --src 29 --dst 30 --space fraud_detection\n",
    "%ng_load --header --source https://github.com/wey-gu/awesome-graph-dataset/raw/main/datasets/fraud_detection/small/applicant_application_with_is_related_to.csv --edge is_related_to --src 14 --dst 15 --props 16:level --space fraud_detection\n",
    "%ng_load --header --source https://github.com/wey-gu/awesome-graph-dataset/raw/main/datasets/fraud_detection/small/applicant_application_with_shared_employer.csv --edge worked_for --src 28 --dst 30 --props 31:start_time --space fraud_detection\n",
    "%ng_load --header --source https://github.com/wey-gu/awesome-graph-dataset/raw/main/datasets/fraud_detection/small/applicant_application_with_shared_employer.csv --edge worked_for --src 29 --dst 30 --props 31:start_time --space fraud_detection\n",
    "%ng_load --header --source https://github.com/wey-gu/awesome-graph-dataset/raw/main/datasets/fraud_detection/small/applicant_application_with_shared_device.csv --edge used_device --src 28 --dst 30 --props 31:start_time --space fraud_detection\n",
    "%ng_load --header --source https://github.com/wey-gu/awesome-graph-dataset/raw/main/datasets/fraud_detection/small/applicant_application_with_shared_device.csv --edge used_device --src 29 --dst 30 --props 32:start_time --space fraud_detection\n",
    "%ng_load --header --source https://github.com/wey-gu/awesome-graph-dataset/raw/main/datasets/fraud_detection/small/shared_phone_num_relationship.csv --edge with_phone_num --src 1 --dst 2 --space fraud_detection\n",
    "%ng_load --header --source https://github.com/wey-gu/awesome-graph-dataset/raw/main/datasets/fraud_detection/small/shared_via_employer_phone_num_relationship.csv --edge with_phone_num --src 1 --dst 3 --space fraud_detection\n",
    "%ng_load --header --source https://github.com/wey-gu/awesome-graph-dataset/raw/main/datasets/fraud_detection/small/shared_via_employer_phone_num_relationship.csv --edge with_phone_num --src 2 --dst 3 --space fraud_detection\n",
    "%ng_load --header --source https://github.com/wey-gu/awesome-graph-dataset/raw/main/datasets/fraud_detection/small/applicant_application_with_shared_via_employer_phone_num.csv --edge worked_for --src 28 --dst 30 --props 32:start_time --space fraud_detection\n",
    "%ng_load --header --source https://github.com/wey-gu/awesome-graph-dataset/raw/main/datasets/fraud_detection/small/applicant_application_with_shared_via_employer_phone_num.csv --edge with_phone_num --src 29 --dst 31 --space fraud_detection\n",
    "%ng_load --header --source https://github.com/wey-gu/awesome-graph-dataset/raw/main/datasets/fraud_detection/small/applicant_application_with_shared_via_employer_phone_num.csv --edge with_phone_num --src 30 --dst 31 --space fraud_detection\n",
    "%ng_load --header --source https://github.com/wey-gu/awesome-graph-dataset/raw/main/datasets/fraud_detection/small/applicant_application_with_shared_device.csv --tag application --vid 0 --props 7:apply_agent_id,8:apply_date,9:application_uuid,10:approval_status,11:application_type,12:rejection_reason --space fraud_detection\n",
    "%ng_load --header --source https://github.com/wey-gu/awesome-graph-dataset/raw/main/datasets/fraud_detection/small/applicant_application_with_shared_employer.csv --tag application --vid 0 --props 7:apply_agent_id,8:apply_date,9:application_uuid,10:approval_status,11:application_type,12:rejection_reason --space fraud_detection\n",
    "%ng_load --header --source https://github.com/wey-gu/awesome-graph-dataset/raw/main/datasets/fraud_detection/small/applicant_application_with_shared_phone_num.csv --tag application --vid 0 --props 7:apply_agent_id,8:apply_date,9:application_uuid,10:approval_status,11:application_type,12:rejection_reason --space fraud_detection\n",
    "%ng_load --header --source https://github.com/wey-gu/awesome-graph-dataset/raw/main/datasets/fraud_detection/small/applicant_application_with_shared_via_employer_phone_num.csv --tag application --vid 0 --props 7:apply_agent_id,8:apply_date,9:application_uuid,10:approval_status,11:application_type,12:rejection_reason --space fraud_detection\n",
    "%ng_load --header --source https://github.com/wey-gu/awesome-graph-dataset/raw/main/datasets/fraud_detection/small/applicant_application_with_shared_device.csv --tag application --vid 14 --props 21:apply_agent_id,22:apply_date,23:application_uuid,24:approval_status,25:application_type,26:rejection_reason --space fraud_detection\n",
    "%ng_load --header --source https://github.com/wey-gu/awesome-graph-dataset/raw/main/datasets/fraud_detection/small/applicant_application_with_shared_employer.csv --tag application --vid 14 --props 21:apply_agent_id,22:apply_date,23:application_uuid,24:approval_status,25:application_type,26:rejection_reason --space fraud_detection\n",
    "%ng_load --header --source https://github.com/wey-gu/awesome-graph-dataset/raw/main/datasets/fraud_detection/small/applicant_application_with_shared_phone_num.csv --tag application --vid 14 --props 21:apply_agent_id,22:apply_date,23:application_uuid,24:approval_status,25:application_type,26:rejection_reason --space fraud_detection\n",
    "%ng_load --header --source https://github.com/wey-gu/awesome-graph-dataset/raw/main/datasets/fraud_detection/small/applicant_application_with_shared_via_employer_phone_num.csv --tag application --vid 14 --props 21:apply_agent_id,22:apply_date,23:application_uuid,24:approval_status,25:application_type,26:rejection_reason --space fraud_detection\n",
    "%ng_load --header --source https://github.com/wey-gu/awesome-graph-dataset/raw/main/datasets/fraud_detection/small/applicant_application_with_shared_device.csv --tag applicant --vid 28 --props 33:name,34:gender,35:birth,1:addr,2:degree,3:occupation,4:year_salary,5:is_risky,6:risk_comment --space fraud_detection\n",
    "%ng_load --header --source https://github.com/wey-gu/awesome-graph-dataset/raw/main/datasets/fraud_detection/small/applicant_application_with_shared_employer.csv --tag applicant --vid 28 --props 33:name,34:gender,35:birth,1:addr,2:degree,3:occupation,4:year_salary,5:is_risky,6:risk_comment --space fraud_detection\n",
    "%ng_load --header --source https://github.com/wey-gu/awesome-graph-dataset/raw/main/datasets/fraud_detection/small/applicant_application_with_shared_via_employer_phone_num.csv --tag applicant --vid 28 --props 33:name,34:gender,35:birth,1:addr,2:degree,3:occupation,4:year_salary,5:is_risky,6:risk_comment --space fraud_detection\n",
    "%ng_load --header --source https://github.com/wey-gu/awesome-graph-dataset/raw/main/datasets/fraud_detection/small/applicant_application_with_shared_phone_num.csv --tag applicant --vid 28 --props 31:name,32:gender,33:birth,1:addr,2:degree,3:occupation,4:year_salary,5:is_risky,6:risk_comment --space fraud_detection\n",
    "%ng_load --header --source https://github.com/wey-gu/awesome-graph-dataset/raw/main/datasets/fraud_detection/small/applicant_application_with_shared_device.csv --tag applicant --vid 29 --props 36:name,37:gender,38:birth,15:addr,16:degree,17:occupation,18:year_salary,19:is_risky,20:risk_comment --space fraud_detection\n",
    "%ng_load --header --source https://github.com/wey-gu/awesome-graph-dataset/raw/main/datasets/fraud_detection/small/applicant_application_with_shared_employer.csv --tag applicant --vid 29 --props 36:name,37:gender,38:birth,15:addr,16:degree,17:occupation,18:year_salary,19:is_risky,20:risk_comment --space fraud_detection\n",
    "%ng_load --header --source https://github.com/wey-gu/awesome-graph-dataset/raw/main/datasets/fraud_detection/small/applicant_application_with_shared_via_employer_phone_num.csv --tag applicant --vid 29 --props 36:name,37:gender,38:birth,15:addr,16:degree,17:occupation,18:year_salary,19:is_risky,20:risk_comment --space fraud_detection\n",
    "%ng_load --header --source https://github.com/wey-gu/awesome-graph-dataset/raw/main/datasets/fraud_detection/small/applicant_application_with_shared_phone_num.csv --tag applicant --vid 29 --props 34:name,35:gender,36:birth,15:addr,16:degree,17:occupation,18:year_salary,19:is_risky,20:risk_comment --space fraud_detection\n",
    "%ng_load --header --source https://github.com/wey-gu/awesome-graph-dataset/raw/main/datasets/fraud_detection/small/applicant_application_with_shared_device.csv --edge applied_for_loan --src 28 --dst 0 --props 8:start_time --space fraud_detection\n",
    "%ng_load --header --source https://github.com/wey-gu/awesome-graph-dataset/raw/main/datasets/fraud_detection/small/applicant_application_with_shared_employer.csv --edge applied_for_loan --src 28 --dst 0 --props 8:start_time --space fraud_detection\n",
    "%ng_load --header --source https://github.com/wey-gu/awesome-graph-dataset/raw/main/datasets/fraud_detection/small/applicant_application_with_shared_phone_num.csv --edge applied_for_loan --src 28 --dst 0 --props 8:start_time --space fraud_detection\n",
    "%ng_load --header --source https://github.com/wey-gu/awesome-graph-dataset/raw/main/datasets/fraud_detection/small/applicant_application_with_shared_via_employer_phone_num.csv --edge applied_for_loan --src 28 --dst 0 --props 8:start_time --space fraud_detection\n",
    "%ng_load --header --source https://github.com/wey-gu/awesome-graph-dataset/raw/main/datasets/fraud_detection/small/applicant_application_with_shared_device.csv --edge applied_for_loan --src 29 --dst 14 --props 22:start_time --space fraud_detection\n",
    "%ng_load --header --source https://github.com/wey-gu/awesome-graph-dataset/raw/main/datasets/fraud_detection/small/applicant_application_with_shared_employer.csv --edge applied_for_loan --src 29 --dst 14 --props 22:start_time --space fraud_detection\n",
    "%ng_load --header --source https://github.com/wey-gu/awesome-graph-dataset/raw/main/datasets/fraud_detection/small/applicant_application_with_shared_phone_num.csv --edge applied_for_loan --src 29 --dst 14 --props 22:start_time --space fraud_detection\n",
    "%ng_load --header --source https://github.com/wey-gu/awesome-graph-dataset/raw/main/datasets/fraud_detection/small/applicant_application_with_shared_via_employer_phone_num.csv --edge applied_for_loan --src 29 --dst 14 --props 22:start_time --space fraud_detection\n"
   ]
  }
 ],
 "metadata": {
  "kernelspec": {
   "display_name": "Python 3 (ipykernel)",
   "language": "python",
   "name": "python3"
  },
  "language_info": {
   "codemirror_mode": {
    "name": "ipython",
    "version": 3
   },
   "file_extension": ".py",
   "mimetype": "text/x-python",
   "name": "python",
   "nbconvert_exporter": "python",
   "pygments_lexer": "ipython3",
   "version": "3.12.2"
  }
 },
 "nbformat": 4,
 "nbformat_minor": 5
}
