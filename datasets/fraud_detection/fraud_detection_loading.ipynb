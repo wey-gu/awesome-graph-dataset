{
 "cells": [
  {
   "cell_type": "code",
   "execution_count": 1,
   "id": "b59b83ce-0aad-4b51-b387-4af315e92a6b",
   "metadata": {},
   "outputs": [
    {
     "name": "stdout",
     "output_type": "stream",
     "text": [
      "Connection Pool Created\n"
     ]
    },
    {
     "data": {
      "text/html": [
       "<div>\n",
       "<style scoped>\n",
       "    .dataframe tbody tr th:only-of-type {\n",
       "        vertical-align: middle;\n",
       "    }\n",
       "\n",
       "    .dataframe tbody tr th {\n",
       "        vertical-align: top;\n",
       "    }\n",
       "\n",
       "    .dataframe thead th {\n",
       "        text-align: right;\n",
       "    }\n",
       "</style>\n",
       "<table border=\"1\" class=\"dataframe\">\n",
       "  <thead>\n",
       "    <tr style=\"text-align: right;\">\n",
       "      <th></th>\n",
       "      <th>Name</th>\n",
       "    </tr>\n",
       "  </thead>\n",
       "  <tbody>\n",
       "    <tr>\n",
       "      <th>0</th>\n",
       "      <td>basketballplayer</td>\n",
       "    </tr>\n",
       "    <tr>\n",
       "      <th>1</th>\n",
       "      <td>demo_basketballplayer</td>\n",
       "    </tr>\n",
       "    <tr>\n",
       "      <th>2</th>\n",
       "      <td>demo_supplychain</td>\n",
       "    </tr>\n",
       "    <tr>\n",
       "      <th>3</th>\n",
       "      <td>fraud_detection</td>\n",
       "    </tr>\n",
       "    <tr>\n",
       "      <th>4</th>\n",
       "      <td>freebase_15k</td>\n",
       "    </tr>\n",
       "    <tr>\n",
       "      <th>5</th>\n",
       "      <td>movie_recommendation</td>\n",
       "    </tr>\n",
       "    <tr>\n",
       "      <th>6</th>\n",
       "      <td>music_gateway</td>\n",
       "    </tr>\n",
       "    <tr>\n",
       "      <th>7</th>\n",
       "      <td>nba</td>\n",
       "    </tr>\n",
       "    <tr>\n",
       "      <th>8</th>\n",
       "      <td>news</td>\n",
       "    </tr>\n",
       "    <tr>\n",
       "      <th>9</th>\n",
       "      <td>supply_chain</td>\n",
       "    </tr>\n",
       "    <tr>\n",
       "      <th>10</th>\n",
       "      <td>supplychain</td>\n",
       "    </tr>\n",
       "  </tbody>\n",
       "</table>\n",
       "</div>"
      ],
      "text/plain": [
       "                     Name\n",
       "0        basketballplayer\n",
       "1   demo_basketballplayer\n",
       "2        demo_supplychain\n",
       "3         fraud_detection\n",
       "4            freebase_15k\n",
       "5    movie_recommendation\n",
       "6           music_gateway\n",
       "7                     nba\n",
       "8                    news\n",
       "9            supply_chain\n",
       "10            supplychain"
      ]
     },
     "execution_count": 1,
     "metadata": {},
     "output_type": "execute_result"
    }
   ],
   "source": [
    "%load_ext ngql\n",
    "%ngql --address 127.0.0.1 --port 9669 --user root --password nebula"
   ]
  },
  {
   "cell_type": "code",
   "execution_count": 2,
   "id": "9028fb80-c354-4d0e-a572-0736baceca9a",
   "metadata": {},
   "outputs": [
    {
     "data": {
      "text/html": [
       "<div>\n",
       "<style scoped>\n",
       "    .dataframe tbody tr th:only-of-type {\n",
       "        vertical-align: middle;\n",
       "    }\n",
       "\n",
       "    .dataframe tbody tr th {\n",
       "        vertical-align: top;\n",
       "    }\n",
       "\n",
       "    .dataframe thead th {\n",
       "        text-align: right;\n",
       "    }\n",
       "</style>\n",
       "<table border=\"1\" class=\"dataframe\">\n",
       "  <thead>\n",
       "    <tr style=\"text-align: right;\">\n",
       "      <th></th>\n",
       "    </tr>\n",
       "  </thead>\n",
       "  <tbody>\n",
       "  </tbody>\n",
       "</table>\n",
       "</div>"
      ],
      "text/plain": [
       "Empty DataFrame\n",
       "Columns: []\n",
       "Index: []"
      ]
     },
     "execution_count": 2,
     "metadata": {},
     "output_type": "execute_result"
    }
   ],
   "source": [
    "%ngql CREATE SPACE fraud_detection(partition_num=1, replica_factor=1, vid_type=fixed_string(32));"
   ]
  },
  {
   "cell_type": "code",
   "execution_count": 2,
   "id": "2ffb4f6d-2f86-4428-810c-a48f7a3261de",
   "metadata": {},
   "outputs": [
    {
     "data": {
      "text/html": [
       "<div>\n",
       "<style scoped>\n",
       "    .dataframe tbody tr th:only-of-type {\n",
       "        vertical-align: middle;\n",
       "    }\n",
       "\n",
       "    .dataframe tbody tr th {\n",
       "        vertical-align: top;\n",
       "    }\n",
       "\n",
       "    .dataframe thead th {\n",
       "        text-align: right;\n",
       "    }\n",
       "</style>\n",
       "<table border=\"1\" class=\"dataframe\">\n",
       "  <thead>\n",
       "    <tr style=\"text-align: right;\">\n",
       "      <th></th>\n",
       "    </tr>\n",
       "  </thead>\n",
       "  <tbody>\n",
       "  </tbody>\n",
       "</table>\n",
       "</div>"
      ],
      "text/plain": [
       "Empty DataFrame\n",
       "Columns: []\n",
       "Index: []"
      ]
     },
     "execution_count": 2,
     "metadata": {},
     "output_type": "execute_result"
    }
   ],
   "source": [
    "%ngql USE fraud_detection;"
   ]
  },
  {
   "cell_type": "code",
   "execution_count": 4,
   "id": "d56fe33d-fe5b-4a86-b8d8-08938e53a137",
   "metadata": {},
   "outputs": [
    {
     "data": {
      "text/html": [
       "<div>\n",
       "<style scoped>\n",
       "    .dataframe tbody tr th:only-of-type {\n",
       "        vertical-align: middle;\n",
       "    }\n",
       "\n",
       "    .dataframe tbody tr th {\n",
       "        vertical-align: top;\n",
       "    }\n",
       "\n",
       "    .dataframe thead th {\n",
       "        text-align: right;\n",
       "    }\n",
       "</style>\n",
       "<table border=\"1\" class=\"dataframe\">\n",
       "  <thead>\n",
       "    <tr style=\"text-align: right;\">\n",
       "      <th></th>\n",
       "    </tr>\n",
       "  </thead>\n",
       "  <tbody>\n",
       "  </tbody>\n",
       "</table>\n",
       "</div>"
      ],
      "text/plain": [
       "Empty DataFrame\n",
       "Columns: []\n",
       "Index: []"
      ]
     },
     "execution_count": 4,
     "metadata": {},
     "output_type": "execute_result"
    }
   ],
   "source": [
    "%%ngql\n",
    "CREATE TAG corp (corp_name string, phone_num string, is_risky string, risk_comment string);\n",
    "CREATE TAG application (apply_agent_id string, apply_date date, application_uuid string, approval_status string, application_type string, rejection_reason string);\n",
    "CREATE TAG phone_num (phone_num string);\n",
    "CREATE TAG device (device_id string);\n",
    "CREATE TAG person (name string);\n",
    "CREATE TAG applicant (name string, gender string, birth date, addr string, degree string, occupation string, year_salary string, is_risky string, risk_comment string);\n",
    "\n",
    "CREATE EDGE applied_for_loan (start_time date); \n",
    "CREATE EDGE with_phone_num (start_time date);\n",
    "CREATE EDGE is_related_to (start_time date, level int);\n",
    "CREATE EDGE worked_for (start_time date);\n",
    "CREATE EDGE used_device (start_time date);"
   ]
  },
  {
   "cell_type": "markdown",
   "id": "56194533-896f-4bed-9b44-e90a07d3ec45",
   "metadata": {},
   "source": [
    "Let's first try with Small rows of data to see how it goes!"
   ]
  },
  {
   "cell_type": "code",
   "execution_count": null,
   "id": "b0eb4ba3-0da4-4f00-bec1-e5a930ed766c",
   "metadata": {},
   "outputs": [],
   "source": [
    "%ng_load --limit 100 --header --source small/corporation.csv --tag corp --vid 0 --props 1:corp_name,3:is_risky,4:risk_comment --space fraud_detection\n",
    "%ng_load --limit 100 --header --source small/applicant_application_with_is_related_to.csv --tag application --vid 0 --props 7:apply_agent_id,8:apply_date,9:application_uuid,10:approval_status,11:application_type,12:rejection_reason --space fraud_detection\n",
    "%ng_load --limit 100 --header --source small/phone_number.csv --tag phone_num --vid 0 --props 1:phone_num --space fraud_detection\n",
    "%ng_load --limit 100 --header --source small/device.csv --tag device --vid 0 --props 1:device_id --space fraud_detection\n",
    "%ng_load --limit 100 --header --source small/person.csv --tag person --vid 0 --props 1:name --space fraud_detection\n",
    "%ng_load --limit 100 --header --source small/applicant_application_with_is_related_to.csv --tag applicant --vid 14 --props 17:name,18:gender,19:birth,1:addr,2:degree,3:occupation,4:year_salary,5:is_risky,6:risk_comment --space fraud_detection\n",
    "%ng_load --limit 100 --header --source small/applicant_application_with_is_related_to.csv --edge applied_for_loan --src 14 --dst 0 --props 8:start_time --space fraud_detection\n",
    "%ng_load --limit 100 --header --source small/applicant_application_with_shared_phone_num.csv --edge with_phone_num --src 28 --dst 30 --space fraud_detection\n",
    "%ng_load --limit 100 --header --source small/applicant_application_with_shared_phone_num.csv --edge with_phone_num --src 29 --dst 30 --space fraud_detection\n",
    "%ng_load --limit 100 --header --source small/applicant_application_with_is_related_to.csv --edge is_related_to --src 14 --dst 15 --props 16:level --space fraud_detection\n",
    "%ng_load --limit 100 --header --source small/applicant_application_with_shared_employer.csv --edge worked_for --src 28 --dst 30 --props 31:start_time --space fraud_detection\n",
    "%ng_load --limit 100 --header --source small/applicant_application_with_shared_employer.csv --edge worked_for --src 29 --dst 30 --props 31:start_time --space fraud_detection\n",
    "%ng_load --limit 100 --header --source small/applicant_application_with_shared_device.csv --edge used_device --src 28 --dst 30 --props 31:start_time --space fraud_detection\n",
    "%ng_load --limit 100 --header --source small/applicant_application_with_shared_device.csv --edge used_device --src 29 --dst 30 --props 32:start_time --space fraud_detection\n",
    "%ng_load --limit 100 --header --source small/shared_phone_num_relationship.csv --edge with_phone_num --src 1 --dst 2 --space fraud_detection\n",
    "%ng_load --limit 100 --header --source small/shared_via_employer_phone_num_relationship.csv --edge with_phone_num --src 1 --dst 3 --space fraud_detection\n",
    "%ng_load --limit 100 --header --source small/shared_via_employer_phone_num_relationship.csv --edge with_phone_num --src 2 --dst 3 --space fraud_detection\n",
    "%ng_load --limit 100 --header --source small/applicant_application_with_shared_via_employer_phone_num.csv --edge worked_for --src 28 --dst 30 --props 32:start_time --space fraud_detection\n",
    "%ng_load --limit 100 --header --source small/applicant_application_with_shared_via_employer_phone_num.csv --edge with_phone_num --src 29 --dst 31 --space fraud_detection\n",
    "%ng_load --limit 100 --header --source small/applicant_application_with_shared_via_employer_phone_num.csv --edge with_phone_num --src 30 --dst 31 --space fraud_detection\n",
    "%ng_load --limit 100 --header --source small/applicant_application_with_shared_device.csv --tag application --vid 0 --props 7:apply_agent_id,8:apply_date,9:application_uuid,10:approval_status,11:application_type,12:rejection_reason --space fraud_detection\n",
    "%ng_load --limit 100 --header --source small/applicant_application_with_shared_employer.csv --tag application --vid 0 --props 7:apply_agent_id,8:apply_date,9:application_uuid,10:approval_status,11:application_type,12:rejection_reason --space fraud_detection\n",
    "%ng_load --limit 100 --header --source small/applicant_application_with_shared_phone_num.csv --tag application --vid 0 --props 7:apply_agent_id,8:apply_date,9:application_uuid,10:approval_status,11:application_type,12:rejection_reason --space fraud_detection\n",
    "%ng_load --limit 100 --header --source small/applicant_application_with_shared_via_employer_phone_num.csv --tag application --vid 0 --props 7:apply_agent_id,8:apply_date,9:application_uuid,10:approval_status,11:application_type,12:rejection_reason --space fraud_detection\n",
    "%ng_load --limit 100 --header --source small/applicant_application_with_shared_device.csv --tag application --vid 14 --props 21:apply_agent_id,22:apply_date,23:application_uuid,24:approval_status,25:application_type,26:rejection_reason --space fraud_detection\n",
    "%ng_load --limit 100 --header --source small/applicant_application_with_shared_employer.csv --tag application --vid 14 --props 21:apply_agent_id,22:apply_date,23:application_uuid,24:approval_status,25:application_type,26:rejection_reason --space fraud_detection\n",
    "%ng_load --limit 100 --header --source small/applicant_application_with_shared_phone_num.csv --tag application --vid 14 --props 21:apply_agent_id,22:apply_date,23:application_uuid,24:approval_status,25:application_type,26:rejection_reason --space fraud_detection\n",
    "%ng_load --limit 100 --header --source small/applicant_application_with_shared_via_employer_phone_num.csv --tag application --vid 14 --props 21:apply_agent_id,22:apply_date,23:application_uuid,24:approval_status,25:application_type,26:rejection_reason --space fraud_detection\n",
    "%ng_load --limit 100 --header --source small/applicant_application_with_shared_device.csv --tag applicant --vid 28 --props 33:name,34:gender,35:birth,1:addr,2:degree,3:occupation,4:year_salary,5:is_risky,6:risk_comment --space fraud_detection\n",
    "%ng_load --limit 100 --header --source small/applicant_application_with_shared_employer.csv --tag applicant --vid 28 --props 33:name,34:gender,35:birth,1:addr,2:degree,3:occupation,4:year_salary,5:is_risky,6:risk_comment --space fraud_detection\n",
    "%ng_load --limit 100 --header --source small/applicant_application_with_shared_via_employer_phone_num.csv --tag applicant --vid 28 --props 33:name,34:gender,35:birth,1:addr,2:degree,3:occupation,4:year_salary,5:is_risky,6:risk_comment --space fraud_detection\n",
    "%ng_load --limit 100 --header --source small/applicant_application_with_shared_phone_num.csv --tag applicant --vid 28 --props 31:name,32:gender,33:birth,1:addr,2:degree,3:occupation,4:year_salary,5:is_risky,6:risk_comment --space fraud_detection\n",
    "%ng_load --limit 100 --header --source small/applicant_application_with_shared_device.csv --tag applicant --vid 29 --props 36:name,37:gender,38:birth,15:addr,16:degree,17:occupation,18:year_salary,19:is_risky,20:risk_comment --space fraud_detection\n",
    "%ng_load --limit 100 --header --source small/applicant_application_with_shared_employer.csv --tag applicant --vid 29 --props 36:name,37:gender,38:birth,15:addr,16:degree,17:occupation,18:year_salary,19:is_risky,20:risk_comment --space fraud_detection\n",
    "%ng_load --limit 100 --header --source small/applicant_application_with_shared_via_employer_phone_num.csv --tag applicant --vid 29 --props 36:name,37:gender,38:birth,15:addr,16:degree,17:occupation,18:year_salary,19:is_risky,20:risk_comment --space fraud_detection\n",
    "%ng_load --limit 100 --header --source small/applicant_application_with_shared_phone_num.csv --tag applicant --vid 29 --props 34:name,35:gender,36:birth,15:addr,16:degree,17:occupation,18:year_salary,19:is_risky,20:risk_comment --space fraud_detection\n",
    "%ng_load --limit 100 --header --source small/applicant_application_with_shared_device.csv --edge applied_for_loan --src 28 --dst 0 --props 8:start_time --space fraud_detection\n",
    "%ng_load --limit 100 --header --source small/applicant_application_with_shared_employer.csv --edge applied_for_loan --src 28 --dst 0 --props 8:start_time --space fraud_detection\n",
    "%ng_load --limit 100 --header --source small/applicant_application_with_shared_phone_num.csv --edge applied_for_loan --src 28 --dst 0 --props 8:start_time --space fraud_detection\n",
    "%ng_load --limit 100 --header --source small/applicant_application_with_shared_via_employer_phone_num.csv --edge applied_for_loan --src 28 --dst 0 --props 8:start_time --space fraud_detection\n",
    "%ng_load --limit 100 --header --source small/applicant_application_with_shared_device.csv --edge applied_for_loan --src 29 --dst 14 --props 22:start_time --space fraud_detection\n",
    "%ng_load --limit 100 --header --source small/applicant_application_with_shared_employer.csv --edge applied_for_loan --src 29 --dst 14 --props 22:start_time --space fraud_detection\n",
    "%ng_load --limit 100 --header --source small/applicant_application_with_shared_phone_num.csv --edge applied_for_loan --src 29 --dst 14 --props 22:start_time --space fraud_detection\n",
    "%ng_load --limit 100 --header --source small/applicant_application_with_shared_via_employer_phone_num.csv --edge applied_for_loan --src 29 --dst 14 --props 22:start_time --space fraud_detection"
   ]
  },
  {
   "cell_type": "markdown",
   "id": "b2c30924-9c6e-437f-9738-eba3da9a7351",
   "metadata": {},
   "source": [
    "Then we could go with full data!"
   ]
  },
  {
   "cell_type": "code",
   "execution_count": null,
   "id": "50ce3d73-5091-464a-a31e-4edd94b0cd1d",
   "metadata": {},
   "outputs": [],
   "source": [
    "%ng_load --header --source https://github.com/wey-gu/awesome-graph-dataset/raw/main/datasets/fraud_detection/small/corporation.csv --tag corp --vid 0 --props 1:corp_name,3:is_risky,4:risk_comment --space fraud_detection\n",
    "%ng_load --header --source https://github.com/wey-gu/awesome-graph-dataset/raw/main/datasets/fraud_detection/small/applicant_application_with_is_related_to.csv --tag application --vid 0 --props 7:apply_agent_id,8:apply_date,9:application_uuid,10:approval_status,11:application_type,12:rejection_reason --space fraud_detection\n",
    "%ng_load --header --source https://github.com/wey-gu/awesome-graph-dataset/raw/main/datasets/fraud_detection/small/phone_number.csv --tag phone_num --vid 0 --props 1:phone_num --space fraud_detection\n",
    "%ng_load --header --source https://github.com/wey-gu/awesome-graph-dataset/raw/main/datasets/fraud_detection/small/device.csv --tag device --vid 0 --props 1:device_id --space fraud_detection\n",
    "%ng_load --header --source https://github.com/wey-gu/awesome-graph-dataset/raw/main/datasets/fraud_detection/small/person.csv --tag person --vid 0 --props 1:name --space fraud_detection\n",
    "%ng_load --header --source https://github.com/wey-gu/awesome-graph-dataset/raw/main/datasets/fraud_detection/small/applicant_application_with_is_related_to.csv --tag applicant --vid 14 --props 17:name,18:gender,19:birth,1:addr,2:degree,3:occupation,4:year_salary,5:is_risky,6:risk_comment --space fraud_detection\n",
    "%ng_load --header --source https://github.com/wey-gu/awesome-graph-dataset/raw/main/datasets/fraud_detection/small/applicant_application_with_is_related_to.csv --edge applied_for_loan --src 14 --dst 0 --props 8:start_time --space fraud_detection\n",
    "%ng_load --header --source https://github.com/wey-gu/awesome-graph-dataset/raw/main/datasets/fraud_detection/small/applicant_application_with_shared_phone_num.csv --edge with_phone_num --src 28 --dst 30 --space fraud_detection\n",
    "%ng_load --header --source https://github.com/wey-gu/awesome-graph-dataset/raw/main/datasets/fraud_detection/small/applicant_application_with_shared_phone_num.csv --edge with_phone_num --src 29 --dst 30 --space fraud_detection\n",
    "%ng_load --header --source https://github.com/wey-gu/awesome-graph-dataset/raw/main/datasets/fraud_detection/small/applicant_application_with_is_related_to.csv --edge is_related_to --src 14 --dst 15 --props 16:level --space fraud_detection\n",
    "%ng_load --header --source https://github.com/wey-gu/awesome-graph-dataset/raw/main/datasets/fraud_detection/small/applicant_application_with_shared_employer.csv --edge worked_for --src 28 --dst 30 --props 31:start_time --space fraud_detection\n",
    "%ng_load --header --source https://github.com/wey-gu/awesome-graph-dataset/raw/main/datasets/fraud_detection/small/applicant_application_with_shared_employer.csv --edge worked_for --src 29 --dst 30 --props 31:start_time --space fraud_detection\n",
    "%ng_load --header --source https://github.com/wey-gu/awesome-graph-dataset/raw/main/datasets/fraud_detection/small/applicant_application_with_shared_device.csv --edge used_device --src 28 --dst 30 --props 31:start_time --space fraud_detection\n",
    "%ng_load --header --source https://github.com/wey-gu/awesome-graph-dataset/raw/main/datasets/fraud_detection/small/applicant_application_with_shared_device.csv --edge used_device --src 29 --dst 30 --props 32:start_time --space fraud_detection\n",
    "%ng_load --header --source https://github.com/wey-gu/awesome-graph-dataset/raw/main/datasets/fraud_detection/small/shared_phone_num_relationship.csv --edge with_phone_num --src 1 --dst 2 --space fraud_detection\n",
    "%ng_load --header --source https://github.com/wey-gu/awesome-graph-dataset/raw/main/datasets/fraud_detection/small/shared_via_employer_phone_num_relationship.csv --edge with_phone_num --src 1 --dst 3 --space fraud_detection\n",
    "%ng_load --header --source https://github.com/wey-gu/awesome-graph-dataset/raw/main/datasets/fraud_detection/small/shared_via_employer_phone_num_relationship.csv --edge with_phone_num --src 2 --dst 3 --space fraud_detection\n",
    "%ng_load --header --source https://github.com/wey-gu/awesome-graph-dataset/raw/main/datasets/fraud_detection/small/applicant_application_with_shared_via_employer_phone_num.csv --edge worked_for --src 28 --dst 30 --props 32:start_time --space fraud_detection\n",
    "%ng_load --header --source https://github.com/wey-gu/awesome-graph-dataset/raw/main/datasets/fraud_detection/small/applicant_application_with_shared_via_employer_phone_num.csv --edge with_phone_num --src 29 --dst 31 --space fraud_detection\n",
    "%ng_load --header --source https://github.com/wey-gu/awesome-graph-dataset/raw/main/datasets/fraud_detection/small/applicant_application_with_shared_via_employer_phone_num.csv --edge with_phone_num --src 30 --dst 31 --space fraud_detection\n",
    "%ng_load --header --source https://github.com/wey-gu/awesome-graph-dataset/raw/main/datasets/fraud_detection/small/applicant_application_with_shared_device.csv --tag application --vid 0 --props 7:apply_agent_id,8:apply_date,9:application_uuid,10:approval_status,11:application_type,12:rejection_reason --space fraud_detection\n",
    "%ng_load --header --source https://github.com/wey-gu/awesome-graph-dataset/raw/main/datasets/fraud_detection/small/applicant_application_with_shared_employer.csv --tag application --vid 0 --props 7:apply_agent_id,8:apply_date,9:application_uuid,10:approval_status,11:application_type,12:rejection_reason --space fraud_detection\n",
    "%ng_load --header --source https://github.com/wey-gu/awesome-graph-dataset/raw/main/datasets/fraud_detection/small/applicant_application_with_shared_phone_num.csv --tag application --vid 0 --props 7:apply_agent_id,8:apply_date,9:application_uuid,10:approval_status,11:application_type,12:rejection_reason --space fraud_detection\n",
    "%ng_load --header --source https://github.com/wey-gu/awesome-graph-dataset/raw/main/datasets/fraud_detection/small/applicant_application_with_shared_via_employer_phone_num.csv --tag application --vid 0 --props 7:apply_agent_id,8:apply_date,9:application_uuid,10:approval_status,11:application_type,12:rejection_reason --space fraud_detection\n",
    "%ng_load --header --source https://github.com/wey-gu/awesome-graph-dataset/raw/main/datasets/fraud_detection/small/applicant_application_with_shared_device.csv --tag application --vid 14 --props 21:apply_agent_id,22:apply_date,23:application_uuid,24:approval_status,25:application_type,26:rejection_reason --space fraud_detection\n",
    "%ng_load --header --source https://github.com/wey-gu/awesome-graph-dataset/raw/main/datasets/fraud_detection/small/applicant_application_with_shared_employer.csv --tag application --vid 14 --props 21:apply_agent_id,22:apply_date,23:application_uuid,24:approval_status,25:application_type,26:rejection_reason --space fraud_detection\n",
    "%ng_load --header --source https://github.com/wey-gu/awesome-graph-dataset/raw/main/datasets/fraud_detection/small/applicant_application_with_shared_phone_num.csv --tag application --vid 14 --props 21:apply_agent_id,22:apply_date,23:application_uuid,24:approval_status,25:application_type,26:rejection_reason --space fraud_detection\n",
    "%ng_load --header --source https://github.com/wey-gu/awesome-graph-dataset/raw/main/datasets/fraud_detection/small/applicant_application_with_shared_via_employer_phone_num.csv --tag application --vid 14 --props 21:apply_agent_id,22:apply_date,23:application_uuid,24:approval_status,25:application_type,26:rejection_reason --space fraud_detection\n",
    "%ng_load --header --source https://github.com/wey-gu/awesome-graph-dataset/raw/main/datasets/fraud_detection/small/applicant_application_with_shared_device.csv --tag applicant --vid 28 --props 33:name,34:gender,35:birth,1:addr,2:degree,3:occupation,4:year_salary,5:is_risky,6:risk_comment --space fraud_detection\n",
    "%ng_load --header --source https://github.com/wey-gu/awesome-graph-dataset/raw/main/datasets/fraud_detection/small/applicant_application_with_shared_employer.csv --tag applicant --vid 28 --props 33:name,34:gender,35:birth,1:addr,2:degree,3:occupation,4:year_salary,5:is_risky,6:risk_comment --space fraud_detection\n",
    "%ng_load --header --source https://github.com/wey-gu/awesome-graph-dataset/raw/main/datasets/fraud_detection/small/applicant_application_with_shared_via_employer_phone_num.csv --tag applicant --vid 28 --props 33:name,34:gender,35:birth,1:addr,2:degree,3:occupation,4:year_salary,5:is_risky,6:risk_comment --space fraud_detection\n",
    "%ng_load --header --source https://github.com/wey-gu/awesome-graph-dataset/raw/main/datasets/fraud_detection/small/applicant_application_with_shared_phone_num.csv --tag applicant --vid 28 --props 31:name,32:gender,33:birth,1:addr,2:degree,3:occupation,4:year_salary,5:is_risky,6:risk_comment --space fraud_detection\n",
    "%ng_load --header --source https://github.com/wey-gu/awesome-graph-dataset/raw/main/datasets/fraud_detection/small/applicant_application_with_shared_device.csv --tag applicant --vid 29 --props 36:name,37:gender,38:birth,15:addr,16:degree,17:occupation,18:year_salary,19:is_risky,20:risk_comment --space fraud_detection\n",
    "%ng_load --header --source https://github.com/wey-gu/awesome-graph-dataset/raw/main/datasets/fraud_detection/small/applicant_application_with_shared_employer.csv --tag applicant --vid 29 --props 36:name,37:gender,38:birth,15:addr,16:degree,17:occupation,18:year_salary,19:is_risky,20:risk_comment --space fraud_detection\n",
    "%ng_load --header --source https://github.com/wey-gu/awesome-graph-dataset/raw/main/datasets/fraud_detection/small/applicant_application_with_shared_via_employer_phone_num.csv --tag applicant --vid 29 --props 36:name,37:gender,38:birth,15:addr,16:degree,17:occupation,18:year_salary,19:is_risky,20:risk_comment --space fraud_detection\n",
    "%ng_load --header --source https://github.com/wey-gu/awesome-graph-dataset/raw/main/datasets/fraud_detection/small/applicant_application_with_shared_phone_num.csv --tag applicant --vid 29 --props 34:name,35:gender,36:birth,15:addr,16:degree,17:occupation,18:year_salary,19:is_risky,20:risk_comment --space fraud_detection\n",
    "%ng_load --header --source https://github.com/wey-gu/awesome-graph-dataset/raw/main/datasets/fraud_detection/small/applicant_application_with_shared_device.csv --edge applied_for_loan --src 28 --dst 0 --props 8:start_time --space fraud_detection\n",
    "%ng_load --header --source https://github.com/wey-gu/awesome-graph-dataset/raw/main/datasets/fraud_detection/small/applicant_application_with_shared_employer.csv --edge applied_for_loan --src 28 --dst 0 --props 8:start_time --space fraud_detection\n",
    "%ng_load --header --source https://github.com/wey-gu/awesome-graph-dataset/raw/main/datasets/fraud_detection/small/applicant_application_with_shared_phone_num.csv --edge applied_for_loan --src 28 --dst 0 --props 8:start_time --space fraud_detection\n",
    "%ng_load --header --source https://github.com/wey-gu/awesome-graph-dataset/raw/main/datasets/fraud_detection/small/applicant_application_with_shared_via_employer_phone_num.csv --edge applied_for_loan --src 28 --dst 0 --props 8:start_time --space fraud_detection\n",
    "%ng_load --header --source https://github.com/wey-gu/awesome-graph-dataset/raw/main/datasets/fraud_detection/small/applicant_application_with_shared_device.csv --edge applied_for_loan --src 29 --dst 14 --props 22:start_time --space fraud_detection\n",
    "%ng_load --header --source https://github.com/wey-gu/awesome-graph-dataset/raw/main/datasets/fraud_detection/small/applicant_application_with_shared_employer.csv --edge applied_for_loan --src 29 --dst 14 --props 22:start_time --space fraud_detection\n",
    "%ng_load --header --source https://github.com/wey-gu/awesome-graph-dataset/raw/main/datasets/fraud_detection/small/applicant_application_with_shared_phone_num.csv --edge applied_for_loan --src 29 --dst 14 --props 22:start_time --space fraud_detection\n",
    "%ng_load --header --source https://github.com/wey-gu/awesome-graph-dataset/raw/main/datasets/fraud_detection/small/applicant_application_with_shared_via_employer_phone_num.csv --edge applied_for_loan --src 29 --dst 14 --props 22:start_time --space fraud_detection\n"
   ]
  },
  {
   "cell_type": "code",
   "execution_count": 5,
   "id": "7e0e73de-bbe1-4455-8008-b321f0e45b0f",
   "metadata": {},
   "outputs": [
    {
     "data": {
      "text/html": [
       "<div>\n",
       "<style scoped>\n",
       "    .dataframe tbody tr th:only-of-type {\n",
       "        vertical-align: middle;\n",
       "    }\n",
       "\n",
       "    .dataframe tbody tr th {\n",
       "        vertical-align: top;\n",
       "    }\n",
       "\n",
       "    .dataframe thead th {\n",
       "        text-align: right;\n",
       "    }\n",
       "</style>\n",
       "<table border=\"1\" class=\"dataframe\">\n",
       "  <thead>\n",
       "    <tr style=\"text-align: right;\">\n",
       "      <th></th>\n",
       "      <th>p</th>\n",
       "    </tr>\n",
       "  </thead>\n",
       "  <tbody>\n",
       "    <tr>\n",
       "      <th>0</th>\n",
       "      <td>(\"p_1235\" :applicant{addr: \"95271 Vanessa Stra...</td>\n",
       "    </tr>\n",
       "    <tr>\n",
       "      <th>1</th>\n",
       "      <td>(\"p_43116\" :applicant{addr: \"USS Gilbert FPO A...</td>\n",
       "    </tr>\n",
       "    <tr>\n",
       "      <th>2</th>\n",
       "      <td>(\"p_47942\" :applicant{addr: \"89209 Robert Ridg...</td>\n",
       "    </tr>\n",
       "    <tr>\n",
       "      <th>3</th>\n",
       "      <td>(\"p_47942\" :applicant{addr: \"89209 Robert Ridg...</td>\n",
       "    </tr>\n",
       "    <tr>\n",
       "      <th>4</th>\n",
       "      <td>(\"p_47942\" :applicant{addr: \"89209 Robert Ridg...</td>\n",
       "    </tr>\n",
       "    <tr>\n",
       "      <th>5</th>\n",
       "      <td>(\"p_47942\" :applicant{addr: \"89209 Robert Ridg...</td>\n",
       "    </tr>\n",
       "    <tr>\n",
       "      <th>6</th>\n",
       "      <td>(\"p_47942\" :applicant{addr: \"89209 Robert Ridg...</td>\n",
       "    </tr>\n",
       "    <tr>\n",
       "      <th>7</th>\n",
       "      <td>(\"p_47942\" :applicant{addr: \"89209 Robert Ridg...</td>\n",
       "    </tr>\n",
       "    <tr>\n",
       "      <th>8</th>\n",
       "      <td>(\"p_47942\" :applicant{addr: \"89209 Robert Ridg...</td>\n",
       "    </tr>\n",
       "    <tr>\n",
       "      <th>9</th>\n",
       "      <td>(\"p_47942\" :applicant{addr: \"89209 Robert Ridg...</td>\n",
       "    </tr>\n",
       "    <tr>\n",
       "      <th>10</th>\n",
       "      <td>(\"p_47942\" :applicant{addr: \"89209 Robert Ridg...</td>\n",
       "    </tr>\n",
       "    <tr>\n",
       "      <th>11</th>\n",
       "      <td>(\"p_47942\" :applicant{addr: \"89209 Robert Ridg...</td>\n",
       "    </tr>\n",
       "    <tr>\n",
       "      <th>12</th>\n",
       "      <td>(\"p_47942\" :applicant{addr: \"89209 Robert Ridg...</td>\n",
       "    </tr>\n",
       "    <tr>\n",
       "      <th>13</th>\n",
       "      <td>(\"p_47942\" :applicant{addr: \"89209 Robert Ridg...</td>\n",
       "    </tr>\n",
       "    <tr>\n",
       "      <th>14</th>\n",
       "      <td>(\"p_47942\" :applicant{addr: \"89209 Robert Ridg...</td>\n",
       "    </tr>\n",
       "    <tr>\n",
       "      <th>15</th>\n",
       "      <td>(\"p_47942\" :applicant{addr: \"89209 Robert Ridg...</td>\n",
       "    </tr>\n",
       "    <tr>\n",
       "      <th>16</th>\n",
       "      <td>(\"p_47942\" :applicant{addr: \"89209 Robert Ridg...</td>\n",
       "    </tr>\n",
       "    <tr>\n",
       "      <th>17</th>\n",
       "      <td>(\"p_47942\" :applicant{addr: \"89209 Robert Ridg...</td>\n",
       "    </tr>\n",
       "    <tr>\n",
       "      <th>18</th>\n",
       "      <td>(\"p_47942\" :applicant{addr: \"89209 Robert Ridg...</td>\n",
       "    </tr>\n",
       "    <tr>\n",
       "      <th>19</th>\n",
       "      <td>(\"p_47942\" :applicant{addr: \"89209 Robert Ridg...</td>\n",
       "    </tr>\n",
       "    <tr>\n",
       "      <th>20</th>\n",
       "      <td>(\"p_47942\" :applicant{addr: \"89209 Robert Ridg...</td>\n",
       "    </tr>\n",
       "    <tr>\n",
       "      <th>21</th>\n",
       "      <td>(\"p_47942\" :applicant{addr: \"89209 Robert Ridg...</td>\n",
       "    </tr>\n",
       "    <tr>\n",
       "      <th>22</th>\n",
       "      <td>(\"p_47942\" :applicant{addr: \"89209 Robert Ridg...</td>\n",
       "    </tr>\n",
       "    <tr>\n",
       "      <th>23</th>\n",
       "      <td>(\"p_47942\" :applicant{addr: \"89209 Robert Ridg...</td>\n",
       "    </tr>\n",
       "    <tr>\n",
       "      <th>24</th>\n",
       "      <td>(\"p_47942\" :applicant{addr: \"89209 Robert Ridg...</td>\n",
       "    </tr>\n",
       "    <tr>\n",
       "      <th>25</th>\n",
       "      <td>(\"p_47942\" :applicant{addr: \"89209 Robert Ridg...</td>\n",
       "    </tr>\n",
       "    <tr>\n",
       "      <th>26</th>\n",
       "      <td>(\"p_47942\" :applicant{addr: \"89209 Robert Ridg...</td>\n",
       "    </tr>\n",
       "    <tr>\n",
       "      <th>27</th>\n",
       "      <td>(\"p_47942\" :applicant{addr: \"89209 Robert Ridg...</td>\n",
       "    </tr>\n",
       "    <tr>\n",
       "      <th>28</th>\n",
       "      <td>(\"p_47942\" :applicant{addr: \"89209 Robert Ridg...</td>\n",
       "    </tr>\n",
       "    <tr>\n",
       "      <th>29</th>\n",
       "      <td>(\"p_47942\" :applicant{addr: \"89209 Robert Ridg...</td>\n",
       "    </tr>\n",
       "  </tbody>\n",
       "</table>\n",
       "</div>"
      ],
      "text/plain": [
       "                                                    p\n",
       "0   (\"p_1235\" :applicant{addr: \"95271 Vanessa Stra...\n",
       "1   (\"p_43116\" :applicant{addr: \"USS Gilbert FPO A...\n",
       "2   (\"p_47942\" :applicant{addr: \"89209 Robert Ridg...\n",
       "3   (\"p_47942\" :applicant{addr: \"89209 Robert Ridg...\n",
       "4   (\"p_47942\" :applicant{addr: \"89209 Robert Ridg...\n",
       "5   (\"p_47942\" :applicant{addr: \"89209 Robert Ridg...\n",
       "6   (\"p_47942\" :applicant{addr: \"89209 Robert Ridg...\n",
       "7   (\"p_47942\" :applicant{addr: \"89209 Robert Ridg...\n",
       "8   (\"p_47942\" :applicant{addr: \"89209 Robert Ridg...\n",
       "9   (\"p_47942\" :applicant{addr: \"89209 Robert Ridg...\n",
       "10  (\"p_47942\" :applicant{addr: \"89209 Robert Ridg...\n",
       "11  (\"p_47942\" :applicant{addr: \"89209 Robert Ridg...\n",
       "12  (\"p_47942\" :applicant{addr: \"89209 Robert Ridg...\n",
       "13  (\"p_47942\" :applicant{addr: \"89209 Robert Ridg...\n",
       "14  (\"p_47942\" :applicant{addr: \"89209 Robert Ridg...\n",
       "15  (\"p_47942\" :applicant{addr: \"89209 Robert Ridg...\n",
       "16  (\"p_47942\" :applicant{addr: \"89209 Robert Ridg...\n",
       "17  (\"p_47942\" :applicant{addr: \"89209 Robert Ridg...\n",
       "18  (\"p_47942\" :applicant{addr: \"89209 Robert Ridg...\n",
       "19  (\"p_47942\" :applicant{addr: \"89209 Robert Ridg...\n",
       "20  (\"p_47942\" :applicant{addr: \"89209 Robert Ridg...\n",
       "21  (\"p_47942\" :applicant{addr: \"89209 Robert Ridg...\n",
       "22  (\"p_47942\" :applicant{addr: \"89209 Robert Ridg...\n",
       "23  (\"p_47942\" :applicant{addr: \"89209 Robert Ridg...\n",
       "24  (\"p_47942\" :applicant{addr: \"89209 Robert Ridg...\n",
       "25  (\"p_47942\" :applicant{addr: \"89209 Robert Ridg...\n",
       "26  (\"p_47942\" :applicant{addr: \"89209 Robert Ridg...\n",
       "27  (\"p_47942\" :applicant{addr: \"89209 Robert Ridg...\n",
       "28  (\"p_47942\" :applicant{addr: \"89209 Robert Ridg...\n",
       "29  (\"p_47942\" :applicant{addr: \"89209 Robert Ridg..."
      ]
     },
     "execution_count": 5,
     "metadata": {},
     "output_type": "execute_result"
    }
   ],
   "source": [
    "%ngql MATCH p=(n:applicant)--()--() return p LIMIT 30"
   ]
  },
  {
   "cell_type": "code",
   "execution_count": 6,
   "id": "b78c9404-c307-44b1-ab84-7b02e85ab884",
   "metadata": {},
   "outputs": [
    {
     "data": {
      "text/html": [
       "\n",
       "        <iframe\n",
       "            width=\"100%\"\n",
       "            height=\"500px\"\n",
       "            src=\"nebulagraph.html\"\n",
       "            frameborder=\"0\"\n",
       "            allowfullscreen\n",
       "            \n",
       "        ></iframe>\n",
       "        "
      ],
      "text/plain": [
       "<IPython.lib.display.IFrame at 0x7f6f0c597260>"
      ]
     },
     "metadata": {},
     "output_type": "display_data"
    },
    {
     "data": {
      "text/plain": [
       "<class 'pyvis.network.Network'> |N|=36 |E|=60"
      ]
     },
     "execution_count": 6,
     "metadata": {},
     "output_type": "execute_result"
    }
   ],
   "source": [
    "%ng_draw"
   ]
  },
  {
   "cell_type": "code",
   "execution_count": 7,
   "id": "238f4ac0-22f3-41a2-a29b-86c9075e1ee2",
   "metadata": {},
   "outputs": [
    {
     "data": {
      "text/html": [
       "\n",
       "        <iframe\n",
       "            width=\"100%\"\n",
       "            height=\"500px\"\n",
       "            src=\"nebulagraph_schema.html\"\n",
       "            frameborder=\"0\"\n",
       "            allowfullscreen\n",
       "            \n",
       "        ></iframe>\n",
       "        "
      ],
      "text/plain": [
       "<IPython.lib.display.IFrame at 0x7f6f14e92480>"
      ]
     },
     "metadata": {},
     "output_type": "display_data"
    },
    {
     "data": {
      "text/plain": [
       "<class 'pyvis.network.Network'> |N|=6 |E|=5"
      ]
     },
     "execution_count": 7,
     "metadata": {},
     "output_type": "execute_result"
    }
   ],
   "source": [
    "%ng_draw_schema"
   ]
  },
  {
   "cell_type": "code",
   "execution_count": null,
   "id": "bff78400-6ca8-416a-8a99-ca9d3c9d54a3",
   "metadata": {},
   "outputs": [],
   "source": []
  }
 ],
 "metadata": {
  "kernelspec": {
   "display_name": "Python 3 (ipykernel)",
   "language": "python",
   "name": "python3"
  },
  "language_info": {
   "codemirror_mode": {
    "name": "ipython",
    "version": 3
   },
   "file_extension": ".py",
   "mimetype": "text/x-python",
   "name": "python",
   "nbconvert_exporter": "python",
   "pygments_lexer": "ipython3",
   "version": "3.12.2"
  }
 },
 "nbformat": 4,
 "nbformat_minor": 5
}
